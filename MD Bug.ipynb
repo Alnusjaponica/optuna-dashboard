{
 "cells": [
  {
   "cell_type": "code",
   "execution_count": 10,
   "id": "32593824-793e-486e-8494-7f18f73ae5ee",
   "metadata": {},
   "outputs": [
    {
     "name": "stderr",
     "output_type": "stream",
     "text": [
      "[I 2023-11-18 12:13:05,829] A new study created in RDB with name: mdbugb\n",
      "[I 2023-11-18 12:13:06,187] Trial 0 finished with value: 0.9 and parameters: {'tech_param_0_0': 0.9863311667179313, 'tech_param_0_1': 2.9722067965404126, 'tech_param_0_2': 5.479907499743063, 'tech_param_0_3': 6.193147335867399, 'tech_param_0_4': 6.44329845141624, 'tech_param_0_5': 6.957704292533055, 'tech_param_0_6': 6.028116976338117, 'tech_param_1_0': 0.8528770906850203, 'tech_param_1_1': 2.8845780424110843, 'tech_param_1_2': 2.205086423835636, 'tech_param_1_3': 5.8965466201793735, 'tech_param_1_4': 6.765916728183967, 'tech_param_1_5': 5.216406754175934, 'tech_param_1_6': 9.921684209548362, 'tech_param_2_0': 3.9278254745655903, 'tech_param_2_1': 2.8605537473963465, 'tech_param_2_2': 4.466559550814772, 'tech_param_2_3': 4.838464946220083, 'tech_param_2_4': 4.026691756550308, 'tech_param_2_5': 5.3788556566702805, 'tech_param_2_6': 6.675770800145582, 'tech_param_3_0': 3.031562395355724, 'tech_param_3_1': 3.7349707362119777, 'tech_param_3_2': 5.473994937262473, 'tech_param_3_3': 6.881019240236522, 'tech_param_3_4': 6.120001351513482, 'tech_param_3_5': 6.036086717431755, 'tech_param_3_6': 9.160127979158023, 'tech_param_4_0': 2.758775673013467, 'tech_param_4_1': 1.0680707015794786, 'tech_param_4_2': 3.3292082013802666, 'tech_param_4_3': 6.687649735544305, 'tech_param_4_4': 7.443681016669299, 'tech_param_4_5': 7.162694801047951, 'tech_param_4_6': 9.999288376422493}. Best is trial 0 with value: 0.9.\n",
      "[I 2023-11-18 12:13:06,501] Trial 1 finished with value: 0.9 and parameters: {'tech_param_0_0': 1.7140076646332538, 'tech_param_0_1': 3.2316252813476325, 'tech_param_0_2': 4.306343376567941, 'tech_param_0_3': 4.61192706012931, 'tech_param_0_4': 5.988119724240175, 'tech_param_0_5': 6.9327357154708285, 'tech_param_0_6': 6.53997726319049, 'tech_param_1_0': 0.3905783000188636, 'tech_param_1_1': 2.76165385255339, 'tech_param_1_2': 2.6085969410537855, 'tech_param_1_3': 4.749816941187031, 'tech_param_1_4': 4.846918571308436, 'tech_param_1_5': 6.254401319703383, 'tech_param_1_6': 7.8373063069546935, 'tech_param_2_0': 2.91103305557099, 'tech_param_2_1': 4.471679319725785, 'tech_param_2_2': 3.5984067288829946, 'tech_param_2_3': 3.470290937133842, 'tech_param_2_4': 7.799315424111551, 'tech_param_2_5': 7.826822170149293, 'tech_param_2_6': 8.849116163752687, 'tech_param_3_0': 3.5380619781168816, 'tech_param_3_1': 3.653451480021751, 'tech_param_3_2': 3.47434126199421, 'tech_param_3_3': 4.443348897470383, 'tech_param_3_4': 7.045847902681517, 'tech_param_3_5': 6.2594143301415475, 'tech_param_3_6': 7.979774488188764, 'tech_param_4_0': 1.0325150795599196, 'tech_param_4_1': 3.4448235367545186, 'tech_param_4_2': 3.3149959756969167, 'tech_param_4_3': 4.819419990796481, 'tech_param_4_4': 7.240391392837244, 'tech_param_4_5': 6.412867172919929, 'tech_param_4_6': 7.784828203240426}. Best is trial 0 with value: 0.9.\n",
      "[I 2023-11-18 12:13:06,830] Trial 2 finished with value: 0.9 and parameters: {'tech_param_0_0': 3.7285153030023213, 'tech_param_0_1': 2.967995773245595, 'tech_param_0_2': 2.1806768067032025, 'tech_param_0_3': 4.166177958423523, 'tech_param_0_4': 7.340303214415031, 'tech_param_0_5': 8.466190260210265, 'tech_param_0_6': 8.838603377394787, 'tech_param_1_0': 1.7630336762562222, 'tech_param_1_1': 1.1619500439780515, 'tech_param_1_2': 3.4038384919507747, 'tech_param_1_3': 6.650347896582192, 'tech_param_1_4': 7.7764728822600055, 'tech_param_1_5': 8.639229218462436, 'tech_param_1_6': 7.113069116576301, 'tech_param_2_0': 3.9931082904645394, 'tech_param_2_1': 3.1473900771322443, 'tech_param_2_2': 4.8958785737518475, 'tech_param_2_3': 4.135490374890335, 'tech_param_2_4': 4.642792333607787, 'tech_param_2_5': 6.804997337959285, 'tech_param_2_6': 7.093905518212265, 'tech_param_3_0': 3.7794491588384793, 'tech_param_3_1': 2.9200030292104078, 'tech_param_3_2': 2.193269350123763, 'tech_param_3_3': 4.4228612589114915, 'tech_param_3_4': 6.768417418097517, 'tech_param_3_5': 7.833147977002255, 'tech_param_3_6': 6.043265945471216, 'tech_param_4_0': 1.239068042928749, 'tech_param_4_1': 3.0223635344959376, 'tech_param_4_2': 4.542741924432429, 'tech_param_4_3': 5.527626147325485, 'tech_param_4_4': 6.41989159985463, 'tech_param_4_5': 5.957849401921937, 'tech_param_4_6': 8.220767432559985}. Best is trial 0 with value: 0.9.\n",
      "[I 2023-11-18 12:13:07,175] Trial 3 finished with value: 0.9 and parameters: {'tech_param_0_0': 2.3406080881578437, 'tech_param_0_1': 2.20431580814314, 'tech_param_0_2': 2.315142042718149, 'tech_param_0_3': 3.153313622905333, 'tech_param_0_4': 6.434868333320647, 'tech_param_0_5': 8.010675478290011, 'tech_param_0_6': 9.795451780231673, 'tech_param_1_0': 3.893698909905487, 'tech_param_1_1': 3.448571655312496, 'tech_param_1_2': 2.7450589731117088, 'tech_param_1_3': 5.2194903883501, 'tech_param_1_4': 7.236541468886768, 'tech_param_1_5': 6.823921860165192, 'tech_param_1_6': 9.616564141906174, 'tech_param_2_0': 0.39123634971167975, 'tech_param_2_1': 2.39626451267548, 'tech_param_2_2': 3.0034883416963494, 'tech_param_2_3': 6.376136926494553, 'tech_param_2_4': 7.218911507033649, 'tech_param_2_5': 6.750947297023547, 'tech_param_2_6': 8.736332931103936, 'tech_param_3_0': 0.6196213625340548, 'tech_param_3_1': 3.387324252791688, 'tech_param_3_2': 4.183149086442488, 'tech_param_3_3': 5.183411467900889, 'tech_param_3_4': 6.267654527841776, 'tech_param_3_5': 5.549621056761763, 'tech_param_3_6': 7.672308955901496, 'tech_param_4_0': 1.246623944346387, 'tech_param_4_1': 4.456831294515673, 'tech_param_4_2': 2.0724147884920074, 'tech_param_4_3': 5.379419267307556, 'tech_param_4_4': 7.112725631815934, 'tech_param_4_5': 8.87353147211932, 'tech_param_4_6': 7.693639964574908}. Best is trial 0 with value: 0.9.\n",
      "[I 2023-11-18 12:13:07,487] Trial 4 finished with value: 0.9 and parameters: {'tech_param_0_0': 3.1068581046485, 'tech_param_0_1': 2.9287122006776443, 'tech_param_0_2': 5.4057937949623085, 'tech_param_0_3': 3.157484488408773, 'tech_param_0_4': 4.690948899704123, 'tech_param_0_5': 8.145312132270456, 'tech_param_0_6': 6.089344894219481, 'tech_param_1_0': 2.9926885191436527, 'tech_param_1_1': 3.176774691423508, 'tech_param_1_2': 2.7721710618333737, 'tech_param_1_3': 4.67762193566592, 'tech_param_1_4': 4.012363168044638, 'tech_param_1_5': 5.659401760473942, 'tech_param_1_6': 8.830934616907934, 'tech_param_2_0': 1.661839241732621, 'tech_param_2_1': 2.7405670060757923, 'tech_param_2_2': 2.100697848478035, 'tech_param_2_3': 6.253340195464311, 'tech_param_2_4': 6.976724037705612, 'tech_param_2_5': 5.510598362317128, 'tech_param_2_6': 7.522477241180887, 'tech_param_3_0': 2.4453135979613685, 'tech_param_3_1': 1.695095408763359, 'tech_param_3_2': 3.102101960127642, 'tech_param_3_3': 4.087680321929806, 'tech_param_3_4': 6.130088543099206, 'tech_param_3_5': 7.350026673357341, 'tech_param_3_6': 8.078588257404482, 'tech_param_4_0': 3.4813120281559478, 'tech_param_4_1': 3.6566237591430295, 'tech_param_4_2': 4.615726645672355, 'tech_param_4_3': 3.5688464780387226, 'tech_param_4_4': 4.212091370332146, 'tech_param_4_5': 6.790648339845854, 'tech_param_4_6': 9.793540661498884}. Best is trial 0 with value: 0.9.\n",
      "[I 2023-11-18 12:13:07,804] Trial 5 finished with value: 0.9 and parameters: {'tech_param_0_0': 3.7955449152390734, 'tech_param_0_1': 3.5879051604064425, 'tech_param_0_2': 5.047936105941167, 'tech_param_0_3': 6.409387696471882, 'tech_param_0_4': 6.139796193716612, 'tech_param_0_5': 5.818035000269156, 'tech_param_0_6': 6.77671788266593, 'tech_param_1_0': 3.538002063564025, 'tech_param_1_1': 4.653916400756065, 'tech_param_1_2': 5.139067082232518, 'tech_param_1_3': 5.258612796259207, 'tech_param_1_4': 5.762995511794475, 'tech_param_1_5': 5.914412902115752, 'tech_param_1_6': 8.821608430328544, 'tech_param_2_0': 2.8391352600362043, 'tech_param_2_1': 1.3147834382265242, 'tech_param_2_2': 5.712530324883787, 'tech_param_2_3': 3.9982127746896365, 'tech_param_2_4': 7.59784603286235, 'tech_param_2_5': 8.249304067800995, 'tech_param_2_6': 9.13797124898645, 'tech_param_3_0': 3.4218288637879235, 'tech_param_3_1': 2.8432006830690506, 'tech_param_3_2': 3.705582741959596, 'tech_param_3_3': 4.932782214722957, 'tech_param_3_4': 5.397522930636624, 'tech_param_3_5': 7.665389302007817, 'tech_param_3_6': 8.161440460609116, 'tech_param_4_0': 0.9002808033064547, 'tech_param_4_1': 2.8214804227095938, 'tech_param_4_2': 4.209001287953269, 'tech_param_4_3': 3.4276241669947267, 'tech_param_4_4': 5.65920280643175, 'tech_param_4_5': 7.0296445059400385, 'tech_param_4_6': 6.58394027927913}. Best is trial 0 with value: 0.9.\n",
      "[I 2023-11-18 12:13:08,436] Trial 6 finished with value: 0.9 and parameters: {'tech_param_0_0': 2.1661335557317467, 'tech_param_0_1': 2.10482781209877, 'tech_param_0_2': 3.5267055048813605, 'tech_param_0_3': 3.3403923781628193, 'tech_param_0_4': 7.251793183308415, 'tech_param_0_5': 5.419077835893116, 'tech_param_0_6': 6.92337803745288, 'tech_param_1_0': 2.248588320589992, 'tech_param_1_1': 1.5496877038644339, 'tech_param_1_2': 3.034290526391054, 'tech_param_1_3': 5.70430130433426, 'tech_param_1_4': 4.755971043039262, 'tech_param_1_5': 6.032107463009746, 'tech_param_1_6': 6.485937845252712, 'tech_param_2_0': 1.1198667631159256, 'tech_param_2_1': 4.443832638453198, 'tech_param_2_2': 4.029162583096888, 'tech_param_2_3': 4.421249989146505, 'tech_param_2_4': 7.266267320462586, 'tech_param_2_5': 7.272268040989632, 'tech_param_2_6': 9.34608451054512, 'tech_param_3_0': 3.5400627448638406, 'tech_param_3_1': 1.0291771457580832, 'tech_param_3_2': 3.001266350018537, 'tech_param_3_3': 3.83986701735892, 'tech_param_3_4': 4.21380354332598, 'tech_param_3_5': 5.7510339129863555, 'tech_param_3_6': 9.666174111722901, 'tech_param_4_0': 0.25936572770098243, 'tech_param_4_1': 1.0411384740076457, 'tech_param_4_2': 3.6068625395816722, 'tech_param_4_3': 4.778931228821068, 'tech_param_4_4': 5.259093795072825, 'tech_param_4_5': 8.171709511787906, 'tech_param_4_6': 9.580347111957641}. Best is trial 0 with value: 0.9.\n"
     ]
    }
   ],
   "source": [
    "import optuna\n",
    "import numpy as np\n",
    "\n",
    "def cost_function(x, y):\n",
    "    return 0.9\n",
    "\n",
    "def tpe_objective_fn(trial):\n",
    "    num_steps = 5\n",
    "    num_heat_sources = 7\n",
    "    lb = [0, 1, 2, 3, 4, 5, 6]\n",
    "    ub = [4, 5, 6, 7, 8, 9, 10]\n",
    "    chosen_parameters = []\n",
    "    for step in range(num_steps):\n",
    "        for idx in range(num_heat_sources):\n",
    "            chosen_parameters.append(\n",
    "                trial.suggest_float(f\"tech_param_{step}_{idx}\", lb[idx], ub[idx])\n",
    "            )\n",
    "\n",
    "    cost = cost_function(\n",
    "        chosen_parameters,\n",
    "        num_steps,\n",
    "    )\n",
    "    return cost\n",
    "\n",
    "if __name__ == \"__main__\":\n",
    "    study = optuna.create_study(\n",
    "        storage=\"sqlite:///db.sqlite3\",  # Specify the storage URL here.\n",
    "        study_name=\"mdbugb\"\n",
    "    )\n",
    "    study.optimize(tpe_objective_fn, n_trials=7)"
   ]
  },
  {
   "cell_type": "code",
   "execution_count": null,
   "id": "2c66fec2-3e46-46c4-bc55-e784d237a3e5",
   "metadata": {},
   "outputs": [],
   "source": []
  }
 ],
 "metadata": {
  "kernelspec": {
   "display_name": "Python 3 (ipykernel)",
   "language": "python",
   "name": "python3"
  },
  "language_info": {
   "codemirror_mode": {
    "name": "ipython",
    "version": 3
   },
   "file_extension": ".py",
   "mimetype": "text/x-python",
   "name": "python",
   "nbconvert_exporter": "python",
   "pygments_lexer": "ipython3",
   "version": "3.11.4"
  }
 },
 "nbformat": 4,
 "nbformat_minor": 5
}
